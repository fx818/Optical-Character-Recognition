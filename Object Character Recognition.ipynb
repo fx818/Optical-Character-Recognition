{
 "cells": [
  {
   "cell_type": "code",
   "execution_count": null,
   "metadata": {
    "_cell_guid": "b1076dfc-b9ad-4769-8c92-a6c4dae69d19",
    "_uuid": "8f2839f25d086af736a60e9eeb907d3b93b6e0e5",
    "trusted": true
   },
   "outputs": [],
   "source": [
    "# This Python 3 environment comes with many helpful analytics libraries installed\n",
    "# It is defined by the kaggle/python Docker image: https://github.com/kaggle/docker-python\n",
    "# For example, here's several helpful packages to load\n",
    "\n",
    "import numpy as np # linear algebra\n",
    "import pandas as pd # data processing, CSV file I/O (e.g. pd.read_csv)\n",
    "\n",
    "# Input data files are available in the read-only \"../input/\" directory\n",
    "# For example, running this (by clicking run or pressing Shift+Enter) will list all files under the input directory\n",
    "\n",
    "import os\n",
    "for dirname, _, filenames in os.walk('/kaggle/input'):\n",
    "    for filename in filenames:\n",
    "        print(os.path.join(dirname, filename))\n",
    "\n",
    "# You can write up to 20GB to the current directory (/kaggle/working/) that gets preserved as output when you create a version using \"Save & Run All\" \n",
    "# You can also write temporary files to /kaggle/temp/, but they won't be saved outside of the current session"
   ]
  },
  {
   "cell_type": "code",
   "execution_count": 1,
   "metadata": {
    "execution": {
     "iopub.execute_input": "2024-11-19T05:58:48.151374Z",
     "iopub.status.busy": "2024-11-19T05:58:48.151044Z",
     "iopub.status.idle": "2024-11-19T05:58:48.155922Z",
     "shell.execute_reply": "2024-11-19T05:58:48.155061Z",
     "shell.execute_reply.started": "2024-11-19T05:58:48.151346Z"
    },
    "trusted": true
   },
   "outputs": [
    {
     "name": "stdout",
     "output_type": "stream",
     "text": [
      "Hello World\n"
     ]
    }
   ],
   "source": [
    "print(\"Hello World\")"
   ]
  },
  {
   "cell_type": "code",
   "execution_count": 4,
   "metadata": {
    "execution": {
     "iopub.execute_input": "2024-11-19T05:58:54.615604Z",
     "iopub.status.busy": "2024-11-19T05:58:54.615275Z",
     "iopub.status.idle": "2024-11-19T05:58:55.101995Z",
     "shell.execute_reply": "2024-11-19T05:58:55.101234Z",
     "shell.execute_reply.started": "2024-11-19T05:58:54.615573Z"
    },
    "trusted": true
   },
   "outputs": [
    {
     "name": "stdout",
     "output_type": "stream",
     "text": [
      "Path to dataset files: /kaggle/input/ocr-dataset\n"
     ]
    }
   ],
   "source": [
    "# Training Dataset\n",
    "import kagglehub\n",
    "\n",
    "# Download latest version\n",
    "path = kagglehub.dataset_download(\"harieh/ocr-dataset\")\n",
    "\n",
    "print(\"Path to dataset files:\", path)"
   ]
  },
  {
   "cell_type": "code",
   "execution_count": 5,
   "metadata": {
    "execution": {
     "iopub.execute_input": "2024-11-19T05:59:07.070472Z",
     "iopub.status.busy": "2024-11-19T05:59:07.070152Z",
     "iopub.status.idle": "2024-11-19T06:01:26.539453Z",
     "shell.execute_reply": "2024-11-19T06:01:26.538330Z",
     "shell.execute_reply.started": "2024-11-19T05:59:07.070443Z"
    },
    "trusted": true
   },
   "outputs": [
    {
     "name": "stdout",
     "output_type": "stream",
     "text": [
      "Mounting files to /kaggle/input/standard-ocr-dataset...\n",
      "Path to dataset files: /kaggle/input/standard-ocr-dataset\n"
     ]
    }
   ],
   "source": [
    "# Testing Dataset\n",
    "import kagglehub\n",
    "\n",
    "# Download latest version\n",
    "path = kagglehub.dataset_download(\"preatcher/standard-ocr-dataset\")\n",
    "\n",
    "print(\"Path to dataset files:\", path)"
   ]
  },
  {
   "cell_type": "code",
   "execution_count": null,
   "metadata": {
    "trusted": true
   },
   "outputs": [],
   "source": []
  },
  {
   "cell_type": "code",
   "execution_count": 2,
   "metadata": {
    "execution": {
     "iopub.execute_input": "2024-11-19T06:47:40.125555Z",
     "iopub.status.busy": "2024-11-19T06:47:40.125192Z",
     "iopub.status.idle": "2024-11-19T06:47:40.129690Z",
     "shell.execute_reply": "2024-11-19T06:47:40.128808Z",
     "shell.execute_reply.started": "2024-11-19T06:47:40.125523Z"
    },
    "trusted": true
   },
   "outputs": [],
   "source": [
    "# import os\n",
    "\n",
    "# # walk through 10 classes of data\n",
    "# for dirpath, dirnames, filenames in os.walk('/kaggle/input/ocr-dataset/dataset'):\n",
    "#     print(f\"There are {len(dirnames)} directories and {len(filenames)} images in {dirpath}\")"
   ]
  },
  {
   "cell_type": "code",
   "execution_count": 18,
   "metadata": {
    "execution": {
     "iopub.execute_input": "2024-11-19T06:48:00.718864Z",
     "iopub.status.busy": "2024-11-19T06:48:00.718494Z",
     "iopub.status.idle": "2024-11-19T06:48:00.723021Z",
     "shell.execute_reply": "2024-11-19T06:48:00.722129Z",
     "shell.execute_reply.started": "2024-11-19T06:48:00.718834Z"
    },
    "trusted": true
   },
   "outputs": [],
   "source": [
    "train_dir = \"kaggle/input/standard-ocr-dataset/data/training_data\"\n",
    "test_dir = \"kaggle/input/standard-ocr-dataset/data/testing_data\""
   ]
  },
  {
   "cell_type": "code",
   "execution_count": 4,
   "metadata": {
    "execution": {
     "iopub.execute_input": "2024-11-19T06:48:01.612929Z",
     "iopub.status.busy": "2024-11-19T06:48:01.612564Z",
     "iopub.status.idle": "2024-11-19T06:48:01.618046Z",
     "shell.execute_reply": "2024-11-19T06:48:01.617182Z",
     "shell.execute_reply.started": "2024-11-19T06:48:01.612901Z"
    },
    "trusted": true
   },
   "outputs": [],
   "source": [
    "# Lets view some images\n",
    "import matplotlib.pyplot as plt\n",
    "import matplotlib.image as mpimg\n",
    "import random\n",
    "import os\n",
    "\n",
    "def view_random_image(dir, type):\n",
    "    location = dir + '/' + type\n",
    "    random_image = random.sample(os.listdir(location), 1)\n",
    "    print(random_image)\n",
    "    img = mpimg.imread(location + '/' + random_image[0])\n",
    "    plt.imshow(img)\n",
    "    plt.title(type)\n",
    "    plt.axis('off');\n",
    "    return img"
   ]
  },
  {
   "cell_type": "code",
   "execution_count": 15,
   "metadata": {
    "execution": {
     "iopub.execute_input": "2024-11-19T06:48:33.623781Z",
     "iopub.status.busy": "2024-11-19T06:48:33.622937Z",
     "iopub.status.idle": "2024-11-19T06:48:33.734229Z",
     "shell.execute_reply": "2024-11-19T06:48:33.733386Z",
     "shell.execute_reply.started": "2024-11-19T06:48:33.623749Z"
    },
    "trusted": true
   },
   "outputs": [
    {
     "name": "stdout",
     "output_type": "stream",
     "text": [
      "['7019.png']\n"
     ]
    },
    {
     "data": {
      "image/png": "[encoded data removed]",
      "text/plain": [
       "<Figure size 640x480 with 1 Axes>"
      ]
     },
     "metadata": {},
     "output_type": "display_data"
    }
   ],
   "source": [
    "img = view_random_image('kaggle/input/standard-ocr-dataset/data/training_data', 'Z')"
   ]
  },
  {
   "cell_type": "code",
   "execution_count": 17,
   "metadata": {
    "execution": {
     "iopub.execute_input": "2024-11-19T07:43:02.109976Z",
     "iopub.status.busy": "2024-11-19T07:43:02.109272Z",
     "iopub.status.idle": "2024-11-19T07:43:02.198745Z",
     "shell.execute_reply": "2024-11-19T07:43:02.197695Z",
     "shell.execute_reply.started": "2024-11-19T07:43:02.109935Z"
    },
    "trusted": true
   },
   "outputs": [
    {
     "name": "stdout",
     "output_type": "stream",
     "text": [
      "['28813.png']\n"
     ]
    },
    {
     "data": {
      "image/png": "[encoded data removed]",
      "text/plain": [
       "<Figure size 640x480 with 1 Axes>"
      ]
     },
     "metadata": {},
     "output_type": "display_data"
    }
   ],
   "source": [
    "img2 = view_random_image('kaggle/input/standard-ocr-dataset/data/testing_data', 'Z')"
   ]
  },
  {
   "cell_type": "code",
   "execution_count": 6,
   "metadata": {
    "execution": {
     "iopub.execute_input": "2024-11-19T06:48:45.317094Z",
     "iopub.status.busy": "2024-11-19T06:48:45.316308Z",
     "iopub.status.idle": "2024-11-19T06:48:45.321355Z",
     "shell.execute_reply": "2024-11-19T06:48:45.320446Z",
     "shell.execute_reply.started": "2024-11-19T06:48:45.317058Z"
    },
    "trusted": true
   },
   "outputs": [],
   "source": [
    "# Standard import\n",
    "import tensorflow as tf\n",
    "from tensorflow.keras.layers import Dense, Conv2D, MaxPool2D, Flatten\n",
    "from tensorflow.keras import Sequential\n",
    "from tensorflow.keras.optimizers import Adam\n",
    "from tensorflow.keras.losses import CategoricalCrossentropy\n"
   ]
  },
  {
   "cell_type": "code",
   "execution_count": 7,
   "metadata": {
    "execution": {
     "iopub.execute_input": "2024-11-19T06:48:45.323112Z",
     "iopub.status.busy": "2024-11-19T06:48:45.322864Z",
     "iopub.status.idle": "2024-11-19T06:48:45.336058Z",
     "shell.execute_reply": "2024-11-19T06:48:45.335391Z",
     "shell.execute_reply.started": "2024-11-19T06:48:45.323089Z"
    },
    "trusted": true
   },
   "outputs": [],
   "source": [
    "# Lets preprocess the data\n",
    "from tensorflow.keras.preprocessing.image import ImageDataGenerator"
   ]
  },
  {
   "cell_type": "code",
   "execution_count": 8,
   "metadata": {
    "execution": {
     "iopub.execute_input": "2024-11-19T07:32:10.713155Z",
     "iopub.status.busy": "2024-11-19T07:32:10.712450Z",
     "iopub.status.idle": "2024-11-19T07:32:10.717127Z",
     "shell.execute_reply": "2024-11-19T07:32:10.716168Z",
     "shell.execute_reply.started": "2024-11-19T07:32:10.713123Z"
    },
    "trusted": true
   },
   "outputs": [],
   "source": [
    "train_datagen = ImageDataGenerator(rescale = 1/255. )\n",
    "test_datagen = ImageDataGenerator(rescale = 1/255. )"
   ]
  },
  {
   "cell_type": "code",
   "execution_count": 19,
   "metadata": {
    "execution": {
     "iopub.execute_input": "2024-11-19T07:32:23.493138Z",
     "iopub.status.busy": "2024-11-19T07:32:23.492801Z",
     "iopub.status.idle": "2024-11-19T07:32:23.499911Z",
     "shell.execute_reply": "2024-11-19T07:32:23.498983Z",
     "shell.execute_reply.started": "2024-11-19T07:32:23.493108Z"
    },
    "trusted": true
   },
   "outputs": [],
   "source": [
    "# Lets get the class names\n",
    "import pathlib\n",
    "import numpy as np\n",
    "\n",
    "data_dir = pathlib.Path(train_dir)\n",
    "class_names = np.array(sorted([item.name for item in data_dir.glob('*')]))"
   ]
  },
  {
   "cell_type": "code",
   "execution_count": 20,
   "metadata": {
    "execution": {
     "iopub.execute_input": "2024-11-19T07:32:30.524129Z",
     "iopub.status.busy": "2024-11-19T07:32:30.523750Z",
     "iopub.status.idle": "2024-11-19T07:32:30.528746Z",
     "shell.execute_reply": "2024-11-19T07:32:30.527934Z",
     "shell.execute_reply.started": "2024-11-19T07:32:30.524098Z"
    },
    "trusted": true
   },
   "outputs": [
    {
     "name": "stdout",
     "output_type": "stream",
     "text": [
      "36\n"
     ]
    }
   ],
   "source": [
    "print(len(class_names))"
   ]
  },
  {
   "cell_type": "code",
   "execution_count": 21,
   "metadata": {
    "execution": {
     "iopub.execute_input": "2024-11-19T07:32:33.942828Z",
     "iopub.status.busy": "2024-11-19T07:32:33.942445Z",
     "iopub.status.idle": "2024-11-19T07:33:23.723266Z",
     "shell.execute_reply": "2024-11-19T07:33:23.722369Z",
     "shell.execute_reply.started": "2024-11-19T07:32:33.942798Z"
    },
    "trusted": true
   },
   "outputs": [
    {
     "name": "stdout",
     "output_type": "stream",
     "text": [
      "Found 20628 images belonging to 36 classes.\n",
      "Found 1008 images belonging to 36 classes.\n"
     ]
    }
   ],
   "source": [
    "train_data = train_datagen.flow_from_directory(\n",
    "    train_dir,\n",
    "    target_size = (224, 224),\n",
    "    batch_size = 32,\n",
    "    class_mode = 'categorical'\n",
    ")\n",
    "\n",
    "test_data = test_datagen.flow_from_directory(\n",
    "    test_dir, \n",
    "    target_size = (224, 224),\n",
    "    batch_size = 32,\n",
    "    class_mode = 'categorical'\n",
    ")"
   ]
  },
  {
   "cell_type": "code",
   "execution_count": 22,
   "metadata": {
    "execution": {
     "iopub.execute_input": "2024-11-19T07:33:23.724887Z",
     "iopub.status.busy": "2024-11-19T07:33:23.724582Z",
     "iopub.status.idle": "2024-11-19T07:33:23.729367Z",
     "shell.execute_reply": "2024-11-19T07:33:23.728504Z",
     "shell.execute_reply.started": "2024-11-19T07:33:23.724861Z"
    },
    "trusted": true
   },
   "outputs": [
    {
     "name": "stdout",
     "output_type": "stream",
     "text": [
      "['0' '1' '2' '3' '4' '5' '6' '7' '8' '9' 'A' 'B' 'C' 'D' 'E' 'F' 'G' 'H'\n",
      " 'I' 'J' 'K' 'L' 'M' 'N' 'O' 'P' 'Q' 'R' 'S' 'T' 'U' 'V' 'W' 'X' 'Y' 'Z']\n"
     ]
    }
   ],
   "source": [
    "print(class_names)"
   ]
  },
  {
   "cell_type": "code",
   "execution_count": 23,
   "metadata": {
    "execution": {
     "iopub.execute_input": "2024-11-19T07:33:23.730618Z",
     "iopub.status.busy": "2024-11-19T07:33:23.730367Z",
     "iopub.status.idle": "2024-11-19T07:33:23.778177Z",
     "shell.execute_reply": "2024-11-19T07:33:23.777583Z",
     "shell.execute_reply.started": "2024-11-19T07:33:23.730595Z"
    },
    "trusted": true
   },
   "outputs": [
    {
     "name": "stderr",
     "output_type": "stream",
     "text": [
      "C:\\Users\\anura\\AppData\\Roaming\\Python\\Python312\\site-packages\\keras\\src\\layers\\convolutional\\base_conv.py:107: UserWarning: Do not pass an `input_shape`/`input_dim` argument to a layer. When using Sequential models, prefer using an `Input(shape)` object as the first layer in the model instead.\n",
      "  super().__init__(activity_regularizer=activity_regularizer, **kwargs)\n"
     ]
    }
   ],
   "source": [
    "# Lets create the custom model\n",
    "customModel = Sequential([\n",
    "    Conv2D(filters= 10, kernel_size = (3,3), padding='valid', activation = 'relu', input_shape = (224, 224, 3)),\n",
    "    Conv2D(10, 3, activation = 'relu'),\n",
    "    MaxPool2D(pool_size = 2),\n",
    "    Conv2D(10, 3, activation = 'relu'),\n",
    "    Conv2D(10, 3, activation = 'relu'),\n",
    "    MaxPool2D(),\n",
    "    Flatten(),\n",
    "    Dense(36, activation = 'softmax')\n",
    "])"
   ]
  },
  {
   "cell_type": "code",
   "execution_count": 24,
   "metadata": {
    "execution": {
     "iopub.execute_input": "2024-11-19T07:33:23.780975Z",
     "iopub.status.busy": "2024-11-19T07:33:23.780134Z",
     "iopub.status.idle": "2024-11-19T07:33:23.787591Z",
     "shell.execute_reply": "2024-11-19T07:33:23.786946Z",
     "shell.execute_reply.started": "2024-11-19T07:33:23.780949Z"
    },
    "trusted": true
   },
   "outputs": [],
   "source": [
    "customModel.compile(\n",
    "    loss = CategoricalCrossentropy(),\n",
    "    optimizer = Adam(),\n",
    "    metrics = ['accuracy']\n",
    ")"
   ]
  },
  {
   "cell_type": "code",
   "execution_count": null,
   "metadata": {
    "execution": {
     "iopub.execute_input": "2024-11-19T07:33:23.789429Z",
     "iopub.status.busy": "2024-11-19T07:33:23.788610Z",
     "iopub.status.idle": "2024-11-19T07:37:08.638536Z",
     "shell.execute_reply": "2024-11-19T07:37:08.637840Z",
     "shell.execute_reply.started": "2024-11-19T07:33:23.789395Z"
    },
    "trusted": true
   },
   "outputs": [
    {
     "name": "stdout",
     "output_type": "stream",
     "text": [
      "Epoch 1/5\n"
     ]
    },
    {
     "name": "stderr",
     "output_type": "stream",
     "text": [
      "C:\\Users\\anura\\AppData\\Roaming\\Python\\Python312\\site-packages\\keras\\src\\trainers\\data_adapters\\py_dataset_adapter.py:121: UserWarning: Your `PyDataset` class should call `super().__init__(**kwargs)` in its constructor. `**kwargs` can include `workers`, `use_multiprocessing`, `max_queue_size`. Do not pass these arguments to `fit()`, as they will be ignored.\n",
      "  self._warn_if_super_not_called()\n"
     ]
    },
    {
     "name": "stdout",
     "output_type": "stream",
     "text": [
      "\u001b[1m368/645\u001b[0m \u001b[32m━━━━━━━━━━━\u001b[0m\u001b[37m━━━━━━━━━\u001b[0m \u001b[1m3:52\u001b[0m 840ms/step - accuracy: 0.6901 - loss: 1.2393"
     ]
    }
   ],
   "source": [
    "customHistory = customModel.fit(\n",
    "    train_data,\n",
    "    epochs = 5,\n",
    "    validation_data = test_data\n",
    ")"
   ]
  },
  {
   "cell_type": "code",
   "execution_count": 99,
   "metadata": {
    "execution": {
     "iopub.execute_input": "2024-11-19T07:01:01.830601Z",
     "iopub.status.busy": "2024-11-19T07:01:01.830340Z",
     "iopub.status.idle": "2024-11-19T07:01:01.836412Z",
     "shell.execute_reply": "2024-11-19T07:01:01.835561Z",
     "shell.execute_reply.started": "2024-11-19T07:01:01.830576Z"
    },
    "trusted": true
   },
   "outputs": [],
   "source": [
    "import matplotlib.pyplot as plt\n",
    "def plot_loss_curves(history):\n",
    "    loss = history.history['loss']\n",
    "    val_loss = history.history['val_loss']\n",
    "    epochs = range(len(loss))\n",
    "\n",
    "    accuracy = history.history['accuracy']\n",
    "    val_accuracy = history.history['val_accuracy']\n",
    "\n",
    "    plt.plot(epochs, loss, label = 'Training Loss')\n",
    "    plt.plot(epochs, val_loss, label = 'Validation Loss')\n",
    "    plt.xlabel(\"Epochs\")\n",
    "    plt.title(\"Loss\")\n",
    "    plt.legend();\n",
    "\n",
    "    plt.figure()\n",
    "    plt.plot(epochs, accuracy, label = 'Training Accuracy')\n",
    "    plt.plot(epochs, val_accuracy, label = 'Validation Accuracy')\n",
    "    plt.xlabel(\"Epochs\")\n",
    "    plt.title(\"Accuracy\")\n",
    "    plt.legend()\n"
   ]
  },
  {
   "cell_type": "code",
   "execution_count": 214,
   "metadata": {
    "execution": {
     "iopub.execute_input": "2024-11-19T07:37:08.639918Z",
     "iopub.status.busy": "2024-11-19T07:37:08.639681Z",
     "iopub.status.idle": "2024-11-19T07:37:09.181686Z",
     "shell.execute_reply": "2024-11-19T07:37:09.180917Z",
     "shell.execute_reply.started": "2024-11-19T07:37:08.639894Z"
    },
    "trusted": true
   },
   "outputs": [
    {
     "data": {
      "image/png": "[encoded data removed]",
      "text/plain": [
       "<Figure size 640x480 with 1 Axes>"
      ]
     },
     "metadata": {},
     "output_type": "display_data"
    },
    {
     "data": {
      "image/png": "[encoded data removed]",
      "text/plain": [
       "<Figure size 640x480 with 1 Axes>"
      ]
     },
     "metadata": {},
     "output_type": "display_data"
    }
   ],
   "source": [
    "plot_loss_curves(customHistory)"
   ]
  },
  {
   "cell_type": "code",
   "execution_count": 215,
   "metadata": {
    "execution": {
     "iopub.execute_input": "2024-11-19T07:37:09.184385Z",
     "iopub.status.busy": "2024-11-19T07:37:09.183753Z",
     "iopub.status.idle": "2024-11-19T07:37:11.557464Z",
     "shell.execute_reply": "2024-11-19T07:37:11.556703Z",
     "shell.execute_reply.started": "2024-11-19T07:37:09.184344Z"
    },
    "trusted": true
   },
   "outputs": [
    {
     "name": "stdout",
     "output_type": "stream",
     "text": [
      "\u001b[1m32/32\u001b[0m \u001b[32m━━━━━━━━━━━━━━━━━━━━\u001b[0m\u001b[37m\u001b[0m \u001b[1m2s\u001b[0m 68ms/step - accuracy: 0.9962 - loss: 0.0132\n"
     ]
    },
    {
     "data": {
      "text/plain": [
       "[0.012852621264755726, 0.9960317611694336]"
      ]
     },
     "execution_count": 215,
     "metadata": {},
     "output_type": "execute_result"
    }
   ],
   "source": [
    "customModel.evaluate(test_data)"
   ]
  },
  {
   "cell_type": "markdown",
   "metadata": {},
   "source": [
    "# Prediction on Custom DataSet\n"
   ]
  },
  {
   "cell_type": "code",
   "execution_count": null,
   "metadata": {
    "trusted": true
   },
   "outputs": [],
   "source": []
  },
  {
   "cell_type": "code",
   "execution_count": null,
   "metadata": {
    "trusted": true
   },
   "outputs": [],
   "source": [
    "test_data2 = train_datagen2.flow_from_directory(\n",
    "    test_dir2, \n",
    "    target_size = (224, 224),\n",
    "    batch_size = 32,\n",
    "    class_mode = 'categorical'\n",
    ")"
   ]
  },
  {
   "cell_type": "code",
   "execution_count": 225,
   "metadata": {
    "execution": {
     "iopub.execute_input": "2024-11-19T07:42:22.063910Z",
     "iopub.status.busy": "2024-11-19T07:42:22.063542Z",
     "iopub.status.idle": "2024-11-19T07:42:22.069149Z",
     "shell.execute_reply": "2024-11-19T07:42:22.068081Z",
     "shell.execute_reply.started": "2024-11-19T07:42:22.063879Z"
    },
    "trusted": true
   },
   "outputs": [],
   "source": [
    "def preprocess_image(image_path):\n",
    "    img = tf.io.read_file(image_path)\n",
    "    img = tf.image.decode_image(img, channels=3)  # Ensure RGB format\n",
    "    img = tf.image.resize(img, (224, 224))       # Match input size\n",
    "    img = img / 255.0                            # Normalize to [0, 1]\n",
    "    return tf.expand_dims(img, axis=0)           # Add batch dimension\n",
    "\n"
   ]
  },
  {
   "cell_type": "code",
   "execution_count": 230,
   "metadata": {
    "execution": {
     "iopub.execute_input": "2024-11-19T07:43:10.754277Z",
     "iopub.status.busy": "2024-11-19T07:43:10.753335Z",
     "iopub.status.idle": "2024-11-19T07:43:10.764215Z",
     "shell.execute_reply": "2024-11-19T07:43:10.763287Z",
     "shell.execute_reply.started": "2024-11-19T07:43:10.754227Z"
    },
    "trusted": true
   },
   "outputs": [],
   "source": [
    "\n",
    "img_loc = \"/kaggle/input/standard-ocr-dataset/data/testing_data/Z/28813.png\"\n",
    "img = preprocess_image(img_loc)"
   ]
  },
  {
   "cell_type": "code",
   "execution_count": 231,
   "metadata": {
    "execution": {
     "iopub.execute_input": "2024-11-19T07:43:13.548450Z",
     "iopub.status.busy": "2024-11-19T07:43:13.548107Z",
     "iopub.status.idle": "2024-11-19T07:43:13.608170Z",
     "shell.execute_reply": "2024-11-19T07:43:13.607614Z",
     "shell.execute_reply.started": "2024-11-19T07:43:13.548419Z"
    },
    "trusted": true
   },
   "outputs": [
    {
     "name": "stdout",
     "output_type": "stream",
     "text": [
      "\u001b[1m1/1\u001b[0m \u001b[32m━━━━━━━━━━━━━━━━━━━━\u001b[0m\u001b[37m\u001b[0m \u001b[1m0s\u001b[0m 17ms/step\n"
     ]
    }
   ],
   "source": [
    "pred = customModel.predict(img)"
   ]
  },
  {
   "cell_type": "code",
   "execution_count": 232,
   "metadata": {
    "execution": {
     "iopub.execute_input": "2024-11-19T07:43:19.979361Z",
     "iopub.status.busy": "2024-11-19T07:43:19.978504Z",
     "iopub.status.idle": "2024-11-19T07:43:19.984113Z",
     "shell.execute_reply": "2024-11-19T07:43:19.983161Z",
     "shell.execute_reply.started": "2024-11-19T07:43:19.979329Z"
    },
    "trusted": true
   },
   "outputs": [
    {
     "name": "stdout",
     "output_type": "stream",
     "text": [
      "Z\n"
     ]
    }
   ],
   "source": [
    "import numpy as np\n",
    "np.max(pred)\n",
    "idx = np.argmax(pred)\n",
    "print(class_names[idx])"
   ]
  },
  {
   "cell_type": "code",
   "execution_count": null,
   "metadata": {
    "trusted": true
   },
   "outputs": [],
   "source": []
  }
 ],
 "metadata": {
  "kaggle": {
   "accelerator": "nvidiaTeslaT4",
   "dataSources": [
    {
     "databundleVersionId": 5927243,
     "datasetId": 3364134,
     "sourceId": 5850209,
     "sourceType": "datasetVersion"
    },
    {
     "databundleVersionId": 2729632,
     "datasetId": 1634134,
     "sourceId": 2685160,
     "sourceType": "datasetVersion"
    }
   ],
   "dockerImageVersionId": 30787,
   "isGpuEnabled": true,
   "isInternetEnabled": true,
   "language": "python",
   "sourceType": "notebook"
  },
  "kernelspec": {
   "display_name": "Python 3",
   "language": "python",
   "name": "python3"
  },
  "language_info": {
   "codemirror_mode": {
    "name": "ipython",
    "version": 3
   },
   "file_extension": ".py",
   "mimetype": "text/x-python",
   "name": "python",
   "nbconvert_exporter": "python",
   "pygments_lexer": "ipython3",
   "version": "3.12.2"
  }
 },
 "nbformat": 4,
 "nbformat_minor": 4
}
